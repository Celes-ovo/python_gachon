{
 "cells": [
  {
   "cell_type": "code",
   "execution_count": 1,
   "id": "fifth-centre",
   "metadata": {},
   "outputs": [
    {
     "name": "stdout",
     "output_type": "stream",
     "text": [
      "1번째 숫자 : 379\n",
      "2번째 숫자 : 45\n"
     ]
    }
   ],
   "source": [
    "num1 = int(input('1번째 숫자 : '))\n",
    "num2 = int(input('2번째 숫자 : '))"
   ]
  },
  {
   "cell_type": "code",
   "execution_count": 6,
   "id": "coated-affiliation",
   "metadata": {},
   "outputs": [
    {
     "name": "stdout",
     "output_type": "stream",
     "text": [
      "연산자 : /\n",
      "379 / 45 = 8.422222\n"
     ]
    }
   ],
   "source": [
    "operator = input('연산자 : ')\n",
    "\n",
    "if operator == '+':\n",
    "    print('%d %s %d = %d' %(num1, operator, num2, num1+num2))\n",
    "    \n",
    "elif operator == '-':\n",
    "    print('%d %s %d = %d' %(num1, operator, num2, num1-num2))\n",
    "    \n",
    "elif operator == '*':\n",
    "    print('%d %s %d = %d' %(num1, operator, num2, num1*num2))\n",
    "    \n",
    "elif operator == '/':\n",
    "    print('%d %s %d = %f' %(num1, operator, num2, num1/num2))"
   ]
  },
  {
   "cell_type": "markdown",
   "id": "downtown-reply",
   "metadata": {},
   "source": [
    "### 추가 내용"
   ]
  },
  {
   "cell_type": "markdown",
   "id": "jewish-marijuana",
   "metadata": {},
   "source": [
    "1. int(input) 대신 eval(input)이라는 함수를 사용해볼 수도 있음.    \n",
    "```num1 = eval(input('숫자 입력 : '))```   \n",
    "   \n",
    "2. 함수형 프로그래밍, lambda\n",
    "---\n",
    "3. map expression과 split() 이라는 함수를 이용해 한 번에 불러올 수도 있다.   \n",
    "```num1, num2 = map(int(input('숫자 입력 : )).split())```"
   ]
  }
 ],
 "metadata": {
  "kernelspec": {
   "display_name": "Python 3",
   "language": "python",
   "name": "python3"
  },
  "language_info": {
   "codemirror_mode": {
    "name": "ipython",
    "version": 3
   },
   "file_extension": ".py",
   "mimetype": "text/x-python",
   "name": "python",
   "nbconvert_exporter": "python",
   "pygments_lexer": "ipython3",
   "version": "3.8.5"
  }
 },
 "nbformat": 4,
 "nbformat_minor": 5
}
