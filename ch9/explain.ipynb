{
 "cells": [
  {
   "cell_type": "markdown",
   "metadata": {},
   "source": [
    "### 파일 읽는 여러 기법\n",
    "* r : read\n",
    "* w : write\n",
    "* a : append"
   ]
  },
  {
   "cell_type": "markdown",
   "metadata": {},
   "source": [
    "1. readline() : 파일 전체의 각 줄을 한줄한줄 읽어 와서 return\n",
    "2. readlines() : 한 번에 전체 구조를 읽어서 list의 배열로 만듦\n",
    "3. read : 파일 전체를 한 줄로 읽어온다. 다만 줄 구분 기호인 \\n의 경우 한 줄에 같이 나옴"
   ]
  },
  {
   "cell_type": "markdown",
   "metadata": {},
   "source": [
    "### 파일 쓰기\n",
    "* writelines()\n",
    "* "
   ]
  },
  {
   "cell_type": "markdown",
   "metadata": {},
   "source": [
    "### 글자의 암호화\n",
    "* ord(char) : 문자의 고유 숫자\n",
    "* chr(num) : 고유 숫자에 해당하는 문자를 알려 줌."
   ]
  },
  {
   "cell_type": "code",
   "execution_count": 9,
   "metadata": {},
   "outputs": [
    {
     "name": "stdout",
     "output_type": "stream",
     "text": [
      "54540 46972 51060 44260\n",
      "플\n"
     ]
    }
   ],
   "source": [
    "print(ord('플'),ord('라'),ord('이'),ord('곤'))\n",
    "\n",
    "print(chr(54540))"
   ]
  },
  {
   "cell_type": "markdown",
   "metadata": {},
   "source": [
    "---\n",
    "### := operator   \n",
    "‘walrus operator’"
   ]
  },
  {
   "cell_type": "markdown",
   "metadata": {},
   "source": [
    "https://medium.com/mlearning-ai/when-and-why-to-use-over-in-python-b91168875453"
   ]
  },
  {
   "cell_type": "markdown",
   "metadata": {},
   "source": [
    "---"
   ]
  },
  {
   "cell_type": "markdown",
   "metadata": {},
   "source": [
    "### 0513\n",
    "\n",
    "### 클래스, 객체\n",
    "\n",
    "* 객체 = 속성 + 동작/행위   \n",
    "\n",
    "\n",
    "이 때 속성에서 내용을 가지고 있는 것을 `상태`라고 하고, 상태를 가지고 있는 경우 `객체`라고 하며,   \n",
    "\n",
    "같은 속성을 가진 객체들의 집합을 부를 수 있는 상위 개념을 `class` 라고 한다"
   ]
  },
  {
   "cell_type": "markdown",
   "metadata": {},
   "source": [
    "- class는 추상적임. (예 : 상품)\n",
    "- Object의 경우 보다 구체적임. (예 : 냉장고, 복숭아 등등)\n",
    "- class로부터 만들어진 객체는 instance라고도 부른다."
   ]
  },
  {
   "cell_type": "markdown",
   "metadata": {},
   "source": []
  }
 ],
 "metadata": {
  "interpreter": {
   "hash": "46e2a0a5e1ce1d39b5df5a9c9017e5f796020026f467a306d8e6ed2becf81621"
  },
  "kernelspec": {
   "display_name": "Python 3.8.5 ('keras')",
   "language": "python",
   "name": "python3"
  },
  "language_info": {
   "codemirror_mode": {
    "name": "ipython",
    "version": 3
   },
   "file_extension": ".py",
   "mimetype": "text/x-python",
   "name": "python",
   "nbconvert_exporter": "python",
   "pygments_lexer": "ipython3",
   "version": "3.8.5"
  },
  "orig_nbformat": 4
 },
 "nbformat": 4,
 "nbformat_minor": 2
}
