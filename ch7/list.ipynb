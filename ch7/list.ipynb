{
  "nbformat": 4,
  "nbformat_minor": 0,
  "metadata": {
    "colab": {
      "name": "Untitled8.ipynb",
      "provenance": [],
      "collapsed_sections": []
    },
    "kernelspec": {
      "name": "python3",
      "display_name": "Python 3"
    },
    "language_info": {
      "name": "python"
    }
  },
  "cells": [
    {
      "cell_type": "markdown",
      "source": [
        "## 1. 리스트"
      ],
      "metadata": {
        "id": "nPg0LVpX9ZMa"
      }
    },
    {
      "cell_type": "code",
      "execution_count": 6,
      "metadata": {
        "colab": {
          "base_uri": "https://localhost:8080/"
        },
        "id": "4ZbgBISM46Kl",
        "outputId": "8cd30a62-ad84-41b6-f046-93845ddedc88"
      },
      "outputs": [
        {
          "output_type": "execute_result",
          "data": {
            "text/plain": [
              "[10, 20, 20, 25]"
            ]
          },
          "metadata": {},
          "execution_count": 6
        }
      ],
      "source": [
        "numList = [10, 20, 30]\n",
        "\n",
        "numList[2:3] = [20, 25]\n",
        "\n",
        "numList"
      ]
    },
    {
      "cell_type": "code",
      "source": [
        "numList_2 = [10, 20, 30]\n",
        "\n",
        "numList[2] = [20, 25]\n",
        "\n",
        "numList"
      ],
      "metadata": {
        "colab": {
          "base_uri": "https://localhost:8080/"
        },
        "id": "nbZsqyHd5gVO",
        "outputId": "3081139d-9a7a-42ac-eeac-a3679a921dd8"
      },
      "execution_count": 7,
      "outputs": [
        {
          "output_type": "execute_result",
          "data": {
            "text/plain": [
              "[10, 20, [20, 25]]"
            ]
          },
          "metadata": {},
          "execution_count": 7
        }
      ]
    },
    {
      "cell_type": "code",
      "source": [
        "numList_3 = [10, 20, 30]\n",
        "del(numList_3)\n",
        "\n",
        "print(numList_3)"
      ],
      "metadata": {
        "colab": {
          "base_uri": "https://localhost:8080/",
          "height": 209
        },
        "id": "00iehDQu5gTP",
        "outputId": "0bedaf71-33bb-4267-9de2-ca9985f34584"
      },
      "execution_count": 9,
      "outputs": [
        {
          "output_type": "error",
          "ename": "NameError",
          "evalue": "ignored",
          "traceback": [
            "\u001b[0;31m---------------------------------------------------------------------------\u001b[0m",
            "\u001b[0;31mNameError\u001b[0m                                 Traceback (most recent call last)",
            "\u001b[0;32m<ipython-input-9-219001fd137d>\u001b[0m in \u001b[0;36m<module>\u001b[0;34m()\u001b[0m\n\u001b[1;32m      2\u001b[0m \u001b[0;32mdel\u001b[0m\u001b[0;34m(\u001b[0m\u001b[0mnumList_3\u001b[0m\u001b[0;34m)\u001b[0m\u001b[0;34m\u001b[0m\u001b[0;34m\u001b[0m\u001b[0m\n\u001b[1;32m      3\u001b[0m \u001b[0;34m\u001b[0m\u001b[0m\n\u001b[0;32m----> 4\u001b[0;31m \u001b[0mprint\u001b[0m\u001b[0;34m(\u001b[0m\u001b[0mnumList_3\u001b[0m\u001b[0;34m)\u001b[0m\u001b[0;34m\u001b[0m\u001b[0;34m\u001b[0m\u001b[0m\n\u001b[0m",
            "\u001b[0;31mNameError\u001b[0m: name 'numList_3' is not defined"
          ]
        }
      ]
    },
    {
      "cell_type": "code",
      "source": [
        "numList_3 = [10, 20, 10, 10, 20, 30]\n",
        "\n",
        "numList_3.remove(10)\n",
        "\n",
        "print(numList_3)"
      ],
      "metadata": {
        "colab": {
          "base_uri": "https://localhost:8080/"
        },
        "id": "5MHkg30u5gQj",
        "outputId": "34c9fb48-93da-4956-d3b2-521c75a57710"
      },
      "execution_count": 12,
      "outputs": [
        {
          "output_type": "stream",
          "name": "stdout",
          "text": [
            "[20, 10, 10, 20, 30]\n"
          ]
        }
      ]
    },
    {
      "cell_type": "code",
      "source": [
        "numList_3 = [10, 20, 10, 10, 20, 30]\n",
        "\n",
        "numList_3.insert(1, 77)\n",
        "\n",
        "print(numList_3)"
      ],
      "metadata": {
        "colab": {
          "base_uri": "https://localhost:8080/"
        },
        "id": "DiU9SRGO5gOL",
        "outputId": "43107ad2-ebcb-4733-d490-7a830a3860a3"
      },
      "execution_count": 14,
      "outputs": [
        {
          "output_type": "stream",
          "name": "stdout",
          "text": [
            "[10, 77, 20, 10, 10, 20, 30]\n"
          ]
        }
      ]
    },
    {
      "cell_type": "code",
      "source": [
        "numList_3.append(90)\n",
        "print(numList_3)\n",
        "\n",
        "print(numList_3.pop())\n",
        "print(numList_3)"
      ],
      "metadata": {
        "colab": {
          "base_uri": "https://localhost:8080/"
        },
        "id": "dG6q8Wlx5gLZ",
        "outputId": "d803bf82-7580-4150-e58c-8b34b4a78f6b"
      },
      "execution_count": 17,
      "outputs": [
        {
          "output_type": "stream",
          "name": "stdout",
          "text": [
            "[10, 77, 20, 10, 10, 20, 30, 90]\n",
            "90\n",
            "[10, 77, 20, 10, 10, 20, 30]\n"
          ]
        }
      ]
    },
    {
      "cell_type": "code",
      "source": [
        "numList_3[0]"
      ],
      "metadata": {
        "colab": {
          "base_uri": "https://localhost:8080/"
        },
        "id": "ursmd10d-6Ir",
        "outputId": "bab2c955-0707-4fe2-91e0-e35b16fb45e7"
      },
      "execution_count": 22,
      "outputs": [
        {
          "output_type": "execute_result",
          "data": {
            "text/plain": [
              "10"
            ]
          },
          "metadata": {},
          "execution_count": 22
        }
      ]
    },
    {
      "cell_type": "code",
      "source": [
        "for i in range(len(numList_3)):\n",
        "  #if numList_3[i] == 10:\n",
        "    print(numList_3[i])"
      ],
      "metadata": {
        "colab": {
          "base_uri": "https://localhost:8080/"
        },
        "id": "XRME5A5d_EOK",
        "outputId": "24ab4b1c-8ca3-4cef-b29e-1ddb3c76cb8f"
      },
      "execution_count": 51,
      "outputs": [
        {
          "output_type": "stream",
          "name": "stdout",
          "text": [
            "10\n",
            "77\n",
            "20\n",
            "10\n",
            "10\n",
            "20\n",
            "30\n"
          ]
        }
      ]
    },
    {
      "cell_type": "markdown",
      "source": [
        "# 퀴즈-리스트 자료 중복 제거"
      ],
      "metadata": {
        "id": "bglMW3i798vD"
      }
    },
    {
      "cell_type": "code",
      "source": [
        "def removeAll(list_output, data):\n",
        "  list_new = []\n",
        "\n",
        "  for i in range(len(list_output)):\n",
        "\n",
        "    if list_output[i] != data:\n",
        "      list_new.append(list_output[i])\n",
        "\n",
        "    else:\n",
        "      pass\n",
        "\n",
        "  print(list_new)"
      ],
      "metadata": {
        "id": "G7h80JyY5gIj"
      },
      "execution_count": 62,
      "outputs": []
    },
    {
      "cell_type": "code",
      "source": [
        "num_list_test = [10, 20, 30, 10, 10, 40, 20, 10, 10, 30]\n",
        "\n",
        "removeAll(num_list_test, 10)"
      ],
      "metadata": {
        "colab": {
          "base_uri": "https://localhost:8080/"
        },
        "id": "A_EXZ2SN-W37",
        "outputId": "8dcaba69-5f1d-477a-c308-bdb4a65492f0"
      },
      "execution_count": 63,
      "outputs": [
        {
          "output_type": "stream",
          "name": "stdout",
          "text": [
            "[20, 30, 40, 20, 30]\n"
          ]
        }
      ]
    },
    {
      "cell_type": "code",
      "source": [
        ""
      ],
      "metadata": {
        "id": "rijyKTeg_Aar"
      },
      "execution_count": null,
      "outputs": []
    }
  ]
}