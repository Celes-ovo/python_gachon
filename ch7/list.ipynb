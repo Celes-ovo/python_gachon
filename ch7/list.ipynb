{
  "nbformat": 4,
  "nbformat_minor": 0,
  "metadata": {
    "colab": {
      "name": "Untitled8.ipynb",
      "provenance": [],
      "collapsed_sections": []
    },
    "kernelspec": {
      "name": "python3",
      "display_name": "Python 3"
    },
    "language_info": {
      "name": "python"
    }
  },
  "cells": [
    {
      "cell_type": "markdown",
      "source": [
        "## 1. 리스트"
      ],
      "metadata": {
        "id": "nPg0LVpX9ZMa"
      }
    },
    {
      "cell_type": "code",
      "execution_count": null,
      "metadata": {
        "colab": {
          "base_uri": "https://localhost:8080/"
        },
        "id": "4ZbgBISM46Kl",
        "outputId": "8cd30a62-ad84-41b6-f046-93845ddedc88"
      },
      "outputs": [
        {
          "output_type": "execute_result",
          "data": {
            "text/plain": [
              "[10, 20, 20, 25]"
            ]
          },
          "metadata": {},
          "execution_count": 6
        }
      ],
      "source": [
        "numList = [10, 20, 30]\n",
        "\n",
        "numList[2:3] = [20, 25]\n",
        "\n",
        "numList"
      ]
    },
    {
      "cell_type": "code",
      "source": [
        "numList_2 = [10, 20, 30]\n",
        "\n",
        "numList[2] = [20, 25]\n",
        "\n",
        "numList"
      ],
      "metadata": {
        "colab": {
          "base_uri": "https://localhost:8080/"
        },
        "id": "nbZsqyHd5gVO",
        "outputId": "3081139d-9a7a-42ac-eeac-a3679a921dd8"
      },
      "execution_count": null,
      "outputs": [
        {
          "output_type": "execute_result",
          "data": {
            "text/plain": [
              "[10, 20, [20, 25]]"
            ]
          },
          "metadata": {},
          "execution_count": 7
        }
      ]
    },
    {
      "cell_type": "code",
      "source": [
        "numList_3 = [10, 20, 30]\n",
        "del(numList_3)\n",
        "\n",
        "print(numList_3)"
      ],
      "metadata": {
        "colab": {
          "base_uri": "https://localhost:8080/",
          "height": 209
        },
        "id": "00iehDQu5gTP",
        "outputId": "0bedaf71-33bb-4267-9de2-ca9985f34584"
      },
      "execution_count": null,
      "outputs": [
        {
          "output_type": "error",
          "ename": "NameError",
          "evalue": "ignored",
          "traceback": [
            "\u001b[0;31m---------------------------------------------------------------------------\u001b[0m",
            "\u001b[0;31mNameError\u001b[0m                                 Traceback (most recent call last)",
            "\u001b[0;32m<ipython-input-9-219001fd137d>\u001b[0m in \u001b[0;36m<module>\u001b[0;34m()\u001b[0m\n\u001b[1;32m      2\u001b[0m \u001b[0;32mdel\u001b[0m\u001b[0;34m(\u001b[0m\u001b[0mnumList_3\u001b[0m\u001b[0;34m)\u001b[0m\u001b[0;34m\u001b[0m\u001b[0;34m\u001b[0m\u001b[0m\n\u001b[1;32m      3\u001b[0m \u001b[0;34m\u001b[0m\u001b[0m\n\u001b[0;32m----> 4\u001b[0;31m \u001b[0mprint\u001b[0m\u001b[0;34m(\u001b[0m\u001b[0mnumList_3\u001b[0m\u001b[0;34m)\u001b[0m\u001b[0;34m\u001b[0m\u001b[0;34m\u001b[0m\u001b[0m\n\u001b[0m",
            "\u001b[0;31mNameError\u001b[0m: name 'numList_3' is not defined"
          ]
        }
      ]
    },
    {
      "cell_type": "code",
      "source": [
        "numList_3 = [10, 20, 10, 10, 20, 30]\n",
        "\n",
        "numList_3.remove(10)\n",
        "\n",
        "print(numList_3)"
      ],
      "metadata": {
        "colab": {
          "base_uri": "https://localhost:8080/"
        },
        "id": "5MHkg30u5gQj",
        "outputId": "34c9fb48-93da-4956-d3b2-521c75a57710"
      },
      "execution_count": null,
      "outputs": [
        {
          "output_type": "stream",
          "name": "stdout",
          "text": [
            "[20, 10, 10, 20, 30]\n"
          ]
        }
      ]
    },
    {
      "cell_type": "code",
      "source": [
        "numList_3 = [10, 20, 10, 10, 20, 30]\n",
        "\n",
        "numList_3.insert(1, 77)\n",
        "\n",
        "print(numList_3)"
      ],
      "metadata": {
        "colab": {
          "base_uri": "https://localhost:8080/"
        },
        "id": "DiU9SRGO5gOL",
        "outputId": "43107ad2-ebcb-4733-d490-7a830a3860a3"
      },
      "execution_count": null,
      "outputs": [
        {
          "output_type": "stream",
          "name": "stdout",
          "text": [
            "[10, 77, 20, 10, 10, 20, 30]\n"
          ]
        }
      ]
    },
    {
      "cell_type": "code",
      "source": [
        "numList_3.append(90)\n",
        "print(numList_3)\n",
        "\n",
        "print(numList_3.pop())\n",
        "print(numList_3)"
      ],
      "metadata": {
        "colab": {
          "base_uri": "https://localhost:8080/"
        },
        "id": "dG6q8Wlx5gLZ",
        "outputId": "d803bf82-7580-4150-e58c-8b34b4a78f6b"
      },
      "execution_count": null,
      "outputs": [
        {
          "output_type": "stream",
          "name": "stdout",
          "text": [
            "[10, 77, 20, 10, 10, 20, 30, 90]\n",
            "90\n",
            "[10, 77, 20, 10, 10, 20, 30]\n"
          ]
        }
      ]
    },
    {
      "cell_type": "code",
      "source": [
        "numList_3[0]"
      ],
      "metadata": {
        "colab": {
          "base_uri": "https://localhost:8080/"
        },
        "id": "ursmd10d-6Ir",
        "outputId": "bab2c955-0707-4fe2-91e0-e35b16fb45e7"
      },
      "execution_count": null,
      "outputs": [
        {
          "output_type": "execute_result",
          "data": {
            "text/plain": [
              "10"
            ]
          },
          "metadata": {},
          "execution_count": 22
        }
      ]
    },
    {
      "cell_type": "code",
      "source": [
        "for i in range(len(numList_3)):\n",
        "  #if numList_3[i] == 10:\n",
        "    print(numList_3[i])"
      ],
      "metadata": {
        "colab": {
          "base_uri": "https://localhost:8080/"
        },
        "id": "XRME5A5d_EOK",
        "outputId": "24ab4b1c-8ca3-4cef-b29e-1ddb3c76cb8f"
      },
      "execution_count": null,
      "outputs": [
        {
          "output_type": "stream",
          "name": "stdout",
          "text": [
            "10\n",
            "77\n",
            "20\n",
            "10\n",
            "10\n",
            "20\n",
            "30\n"
          ]
        }
      ]
    },
    {
      "cell_type": "markdown",
      "source": [
        "# 퀴즈-리스트 자료 중복 제거"
      ],
      "metadata": {
        "id": "bglMW3i798vD"
      }
    },
    {
      "cell_type": "code",
      "source": [
        "def removeAll(list_output, data):\n",
        "  list_new = []\n",
        "\n",
        "  for i in range(len(list_output)):\n",
        "\n",
        "    if list_output[i] != data:\n",
        "      list_new.append(list_output[i])\n",
        "\n",
        "    else:\n",
        "      pass\n",
        "\n",
        "  print(list_new)"
      ],
      "metadata": {
        "id": "G7h80JyY5gIj"
      },
      "execution_count": null,
      "outputs": []
    },
    {
      "cell_type": "code",
      "source": [
        "num_list_test = [10, 20, 30, 10, 10, 40, 20, 10, 10, 30]\n",
        "\n",
        "removeAll(num_list_test, 10)"
      ],
      "metadata": {
        "colab": {
          "base_uri": "https://localhost:8080/"
        },
        "id": "A_EXZ2SN-W37",
        "outputId": "8dcaba69-5f1d-477a-c308-bdb4a65492f0"
      },
      "execution_count": null,
      "outputs": [
        {
          "output_type": "stream",
          "name": "stdout",
          "text": [
            "[20, 30, 40, 20, 30]\n"
          ]
        }
      ]
    },
    {
      "cell_type": "markdown",
      "source": [
        "---\n",
        "# +) 0415"
      ],
      "metadata": {
        "id": "OmUJPIz5_Hhr"
      }
    },
    {
      "cell_type": "markdown",
      "source": [
        "또다른 리스트를 만드는 방법"
      ],
      "metadata": {
        "id": "UD-ESXsO_rSB"
      }
    },
    {
      "cell_type": "code",
      "source": [
        "list_1 = [1, 2, 3, 4, 5]\n",
        "list_2 = [i*10 for i in range(1, 10)]"
      ],
      "metadata": {
        "id": "rijyKTeg_Aar"
      },
      "execution_count": 1,
      "outputs": []
    },
    {
      "cell_type": "markdown",
      "source": [
        "### a for i in range~~"
      ],
      "metadata": {
        "id": "ENs2EZNA_3Xn"
      }
    },
    {
      "cell_type": "code",
      "source": [
        "list_2"
      ],
      "metadata": {
        "colab": {
          "base_uri": "https://localhost:8080/"
        },
        "id": "amUDhA3m_Nr9",
        "outputId": "dab09247-e923-4755-e9f1-c163abb43f6e"
      },
      "execution_count": 2,
      "outputs": [
        {
          "output_type": "execute_result",
          "data": {
            "text/plain": [
              "[10, 20, 30, 40, 50, 60, 70, 80, 90]"
            ]
          },
          "metadata": {},
          "execution_count": 2
        }
      ]
    },
    {
      "cell_type": "markdown",
      "source": [
        "### 모든 값에 0을 넣고 싶을 때"
      ],
      "metadata": {
        "id": "2c7cw_u3_6ZH"
      }
    },
    {
      "cell_type": "code",
      "source": [
        "list_3 = [0 for i in range(10)]"
      ],
      "metadata": {
        "id": "qORGLBAf_Nob"
      },
      "execution_count": 3,
      "outputs": []
    },
    {
      "cell_type": "code",
      "source": [
        "list_3"
      ],
      "metadata": {
        "colab": {
          "base_uri": "https://localhost:8080/"
        },
        "id": "CMouC-Y7_NmC",
        "outputId": "5d36d22f-c795-4490-8285-cb2d600d425f"
      },
      "execution_count": 4,
      "outputs": [
        {
          "output_type": "execute_result",
          "data": {
            "text/plain": [
              "[0, 0, 0, 0, 0, 0, 0, 0, 0, 0]"
            ]
          },
          "metadata": {},
          "execution_count": 4
        }
      ]
    },
    {
      "cell_type": "code",
      "source": [
        "# list_1 = [1, 2, 3, 4, 5]\n",
        "\n",
        "print(sum(list_1))"
      ],
      "metadata": {
        "colab": {
          "base_uri": "https://localhost:8080/"
        },
        "id": "i_Y6Jsxy_NjV",
        "outputId": "0d14d8a3-c82d-453a-9a18-8d9c9a050a02"
      },
      "execution_count": 6,
      "outputs": [
        {
          "output_type": "stream",
          "name": "stdout",
          "text": [
            "15\n"
          ]
        }
      ]
    },
    {
      "cell_type": "markdown",
      "source": [
        "### ★ ```for i in list``` method"
      ],
      "metadata": {
        "id": "mEFBGf9NAj3R"
      }
    },
    {
      "cell_type": "code",
      "source": [
        "cnt = 0\n",
        "\n",
        "for i in list_1:\n",
        "  print(cnt, i)\n",
        "  cnt += 1"
      ],
      "metadata": {
        "colab": {
          "base_uri": "https://localhost:8080/"
        },
        "id": "7DoQ2xPk_Ngi",
        "outputId": "a52a913f-3c99-45d5-8bd1-4d90c25c04ad"
      },
      "execution_count": 8,
      "outputs": [
        {
          "output_type": "stream",
          "name": "stdout",
          "text": [
            "0 1\n",
            "1 2\n",
            "2 3\n",
            "3 4\n",
            "4 5\n"
          ]
        }
      ]
    },
    {
      "cell_type": "markdown",
      "source": [
        "### another method : ```for i in enumerate```"
      ],
      "metadata": {
        "id": "HSNiwtlFA6WV"
      }
    },
    {
      "cell_type": "code",
      "source": [
        "for i, n in enumerate(list_1):\n",
        "  print(i, n)"
      ],
      "metadata": {
        "colab": {
          "base_uri": "https://localhost:8080/"
        },
        "id": "palxL7Kv_Ndq",
        "outputId": "3cb9dc2f-c450-4078-aafb-5193ee179bb8"
      },
      "execution_count": 9,
      "outputs": [
        {
          "output_type": "stream",
          "name": "stdout",
          "text": [
            "0 1\n",
            "1 2\n",
            "2 3\n",
            "3 4\n",
            "4 5\n"
          ]
        }
      ]
    },
    {
      "cell_type": "markdown",
      "source": [
        "인덱스와 값을 return해줌!!"
      ],
      "metadata": {
        "id": "SVtpO8o8BY1y"
      }
    },
    {
      "cell_type": "code",
      "source": [
        "# more\n",
        "\n",
        "list_5 = [[10, 20], [30, 40], [50, 60], [70, 80]]\n",
        "\n",
        "for i, n in enumerate(list_5):\n",
        "  print(i, n)"
      ],
      "metadata": {
        "colab": {
          "base_uri": "https://localhost:8080/"
        },
        "id": "78B6XLOkAbYZ",
        "outputId": "c0cd7a5e-2733-4dea-d50f-0eb189acbd08"
      },
      "execution_count": 10,
      "outputs": [
        {
          "output_type": "stream",
          "name": "stdout",
          "text": [
            "0 [10, 20]\n",
            "1 [30, 40]\n",
            "2 [50, 60]\n",
            "3 [70, 80]\n"
          ]
        }
      ]
    },
    {
      "cell_type": "markdown",
      "source": [
        "2개의 list를 한 번에 받아 하나의 loop 사이클 내에서 돌리기"
      ],
      "metadata": {
        "id": "iwilhcY8BeOs"
      }
    },
    {
      "cell_type": "code",
      "source": [
        "# zip technique\n",
        "\n",
        "list_6 = [1, 2, 3, 4]\n",
        "list_7 = [5, 6, 7, 8]\n",
        "\n",
        "for l1, l2 in zip(list_6, list_7):\n",
        "  print (l1, l2)"
      ],
      "metadata": {
        "colab": {
          "base_uri": "https://localhost:8080/"
        },
        "id": "vfqfQkAJAbVJ",
        "outputId": "cdaa1f8d-fb10-44dc-9785-359beafb597a"
      },
      "execution_count": 22,
      "outputs": [
        {
          "output_type": "stream",
          "name": "stdout",
          "text": [
            "1 5\n",
            "2 6\n",
            "3 7\n",
            "4 8\n"
          ]
        }
      ]
    },
    {
      "cell_type": "markdown",
      "source": [
        "in enumerate, in zip을 같이 쓰고 싶다면?    \n",
        "https://note.nkmk.me/en/python-for-enumerate-zip/"
      ],
      "metadata": {
        "id": "NgWTD2jkCSbV"
      }
    },
    {
      "cell_type": "code",
      "source": [
        "# example\n",
        "\n",
        "names = ['Alice', 'Bob', 'Charlie']\n",
        "ages = [24, 50, 18]\n",
        "\n",
        "for i, (name, age) in enumerate(zip(names, ages)):\n",
        "    print(i, name, age)"
      ],
      "metadata": {
        "colab": {
          "base_uri": "https://localhost:8080/"
        },
        "id": "wroq25UyC2UI",
        "outputId": "680d5f07-b836-4759-87dd-eba62e50ab70"
      },
      "execution_count": 20,
      "outputs": [
        {
          "output_type": "stream",
          "name": "stdout",
          "text": [
            "0 Alice 24\n",
            "1 Bob 50\n",
            "2 Charlie 18\n"
          ]
        }
      ]
    },
    {
      "cell_type": "code",
      "source": [
        "# 실제 해 보기\n",
        "\n",
        "for n1, l1 in enumerate(zip(list_6, list_7)):\n",
        "  print(n1, l1)"
      ],
      "metadata": {
        "colab": {
          "base_uri": "https://localhost:8080/"
        },
        "id": "KzniFRLAAbSg",
        "outputId": "729556d3-15eb-4f9c-9717-08b90447a660"
      },
      "execution_count": 21,
      "outputs": [
        {
          "output_type": "stream",
          "name": "stdout",
          "text": [
            "0 (1, 5)\n",
            "1 (2, 6)\n",
            "2 (3, 7)\n",
            "3 (4, 8)\n"
          ]
        }
      ]
    },
    {
      "cell_type": "markdown",
      "source": [
        "---"
      ],
      "metadata": {
        "id": "wdigiKkCC1rV"
      }
    },
    {
      "cell_type": "code",
      "source": [
        ""
      ],
      "metadata": {
        "id": "lhTPMds6AbPu"
      },
      "execution_count": null,
      "outputs": []
    },
    {
      "cell_type": "code",
      "source": [
        ""
      ],
      "metadata": {
        "id": "MvnIBy8MAbNF"
      },
      "execution_count": null,
      "outputs": []
    },
    {
      "cell_type": "code",
      "source": [
        ""
      ],
      "metadata": {
        "id": "U3QWEKM0DSmp"
      },
      "execution_count": null,
      "outputs": []
    },
    {
      "cell_type": "code",
      "source": [
        ""
      ],
      "metadata": {
        "id": "fsUSOElIDSi9"
      },
      "execution_count": null,
      "outputs": []
    },
    {
      "cell_type": "code",
      "source": [
        ""
      ],
      "metadata": {
        "id": "el6Cx7RfDSgi"
      },
      "execution_count": null,
      "outputs": []
    },
    {
      "cell_type": "code",
      "source": [
        ""
      ],
      "metadata": {
        "id": "3AC5yu4BDSdb"
      },
      "execution_count": null,
      "outputs": []
    },
    {
      "cell_type": "code",
      "source": [
        ""
      ],
      "metadata": {
        "id": "2ChZUZ1cDSam"
      },
      "execution_count": null,
      "outputs": []
    }
  ]
}