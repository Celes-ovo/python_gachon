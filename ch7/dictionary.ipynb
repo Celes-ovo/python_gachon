{
  "nbformat": 4,
  "nbformat_minor": 0,
  "metadata": {
    "colab": {
      "name": "python_gachon_dictionary.ipynb",
      "provenance": [],
      "collapsed_sections": []
    },
    "kernelspec": {
      "name": "python3",
      "display_name": "Python 3"
    },
    "language_info": {
      "name": "python"
    }
  },
  "cells": [
    {
      "cell_type": "markdown",
      "source": [
        "## Dictionary = {key, value}"
      ],
      "metadata": {
        "id": "9HNMQJeZFooB"
      }
    },
    {
      "cell_type": "code",
      "execution_count": 2,
      "metadata": {
        "id": "u5v162iEFicd"
      },
      "outputs": [],
      "source": [
        "dict1 = {'1':'Ryan', '2':'Jun'}"
      ]
    },
    {
      "cell_type": "code",
      "source": [
        "print(dict1.keys())\n",
        "print(dict1.values())"
      ],
      "metadata": {
        "colab": {
          "base_uri": "https://localhost:8080/"
        },
        "id": "i2GCXC0DFoH7",
        "outputId": "be15dbd2-1bbf-4195-ba22-f8e8b931cf66"
      },
      "execution_count": 5,
      "outputs": [
        {
          "output_type": "stream",
          "name": "stdout",
          "text": [
            "dict_keys(['1', '2'])\n",
            "dict_values(['Ryan', 'Jun'])\n"
          ]
        }
      ]
    },
    {
      "cell_type": "markdown",
      "source": [
        "딕셔너리에 key, value 추가해 보기"
      ],
      "metadata": {
        "id": "W-m1_ELlITFf"
      }
    },
    {
      "cell_type": "code",
      "source": [
        "singer = {}\n",
        "\n",
        "singer['이름'] = '노라조'\n",
        "singer['구성원수'] = 9\n",
        "singer['대표곡'] = '카레'"
      ],
      "metadata": {
        "id": "1Irij_XvFoFT"
      },
      "execution_count": 6,
      "outputs": []
    },
    {
      "cell_type": "code",
      "source": [
        "print(len(singer))"
      ],
      "metadata": {
        "colab": {
          "base_uri": "https://localhost:8080/"
        },
        "id": "CJK58aduFoCt",
        "outputId": "731b5459-a933-41c3-b7d8-8c848188ce16"
      },
      "execution_count": 7,
      "outputs": [
        {
          "output_type": "stream",
          "name": "stdout",
          "text": [
            "3\n"
          ]
        }
      ]
    },
    {
      "cell_type": "markdown",
      "source": [
        "딕셔너리는 검색이 가능함!!!"
      ],
      "metadata": {
        "id": "reEc1XBDIO8e"
      }
    },
    {
      "cell_type": "code",
      "source": [
        "print(singer['이름'])"
      ],
      "metadata": {
        "colab": {
          "base_uri": "https://localhost:8080/"
        },
        "id": "aYBUKA7PFoAU",
        "outputId": "30b34128-ddb5-4941-80db-9e23ee1eff3a"
      },
      "execution_count": 8,
      "outputs": [
        {
          "output_type": "stream",
          "name": "stdout",
          "text": [
            "노라조\n"
          ]
        }
      ]
    },
    {
      "cell_type": "code",
      "source": [
        "if '이름' in singer:\n",
        "  print(singer['이름'])"
      ],
      "metadata": {
        "colab": {
          "base_uri": "https://localhost:8080/"
        },
        "id": "ybPokcgCFn9o",
        "outputId": "6499a6e0-2d15-4c15-916d-03027c7d8083"
      },
      "execution_count": 10,
      "outputs": [
        {
          "output_type": "stream",
          "name": "stdout",
          "text": [
            "노라조\n"
          ]
        }
      ]
    },
    {
      "cell_type": "code",
      "source": [
        "print(singer.keys(), '\\n',singer.values(), '\\n', singer.items())"
      ],
      "metadata": {
        "colab": {
          "base_uri": "https://localhost:8080/"
        },
        "id": "32VPN2RiFn7E",
        "outputId": "68eba27c-f738-4789-cada-d3a5a862d4fd"
      },
      "execution_count": 13,
      "outputs": [
        {
          "output_type": "stream",
          "name": "stdout",
          "text": [
            "dict_keys(['이름', '구성원수', '대표곡']) \n",
            " dict_values(['노라조', 9, '카레']) \n",
            " dict_items([('이름', '노라조'), ('구성원수', 9), ('대표곡', '카레')])\n"
          ]
        }
      ]
    },
    {
      "cell_type": "code",
      "source": [
        ""
      ],
      "metadata": {
        "id": "K7l-YLP9Fn4T"
      },
      "execution_count": null,
      "outputs": []
    }
  ]
}