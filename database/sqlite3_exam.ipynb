{
 "cells": [
  {
   "cell_type": "markdown",
   "metadata": {},
   "source": [
    "# SQLite 기본 예제"
   ]
  },
  {
   "cell_type": "code",
   "execution_count": 1,
   "metadata": {},
   "outputs": [],
   "source": [
    "import sqlite3 as sql"
   ]
  },
  {
   "cell_type": "markdown",
   "metadata": {},
   "source": [
    "### DB 연결"
   ]
  },
  {
   "cell_type": "code",
   "execution_count": 5,
   "metadata": {},
   "outputs": [],
   "source": [
    "# 내가 어느 db를 쓸 건지 명시해줘야 함.\n",
    "conn = sql.connect('./test.db')\n",
    "# connect : 원하는 db를 변수로써 할당\n",
    "# db가 없을 경우, error를 출력하는 대신 새로운 db를 만든다.\n",
    "\n",
    "# cursor : db에 있는 데이터에 순차적으로 액세스할 수 있는 일종의 포인터 역할.\n",
    "cur = conn.cursor()"
   ]
  },
  {
   "cell_type": "markdown",
   "metadata": {},
   "source": [
    "### 테이블 생성"
   ]
  },
  {
   "cell_type": "code",
   "execution_count": 6,
   "metadata": {},
   "outputs": [
    {
     "ename": "OperationalError",
     "evalue": "table product already exists",
     "output_type": "error",
     "traceback": [
      "\u001b[1;31m---------------------------------------------------------------------------\u001b[0m",
      "\u001b[1;31mOperationalError\u001b[0m                          Traceback (most recent call last)",
      "\u001b[1;32m<ipython-input-6-729f619cea07>\u001b[0m in \u001b[0;36m<module>\u001b[1;34m\u001b[0m\n\u001b[0;32m      3\u001b[0m \u001b[1;33m\u001b[0m\u001b[0m\n\u001b[0;32m      4\u001b[0m \u001b[1;31m# 테이블 생성\u001b[0m\u001b[1;33m\u001b[0m\u001b[1;33m\u001b[0m\u001b[1;33m\u001b[0m\u001b[0m\n\u001b[1;32m----> 5\u001b[1;33m conn.execute(\"\"\"create table product(\n\u001b[0m\u001b[0;32m      6\u001b[0m     \u001b[0mpid\u001b[0m \u001b[0mINTEGER\u001b[0m \u001b[0mPRIMARY\u001b[0m \u001b[0mKEY\u001b[0m \u001b[0mAUTOINCREMENT\u001b[0m\u001b[1;33m,\u001b[0m\u001b[1;33m\u001b[0m\u001b[1;33m\u001b[0m\u001b[0m\n\u001b[0;32m      7\u001b[0m     \u001b[0mname\u001b[0m \u001b[0mTEXT\u001b[0m \u001b[0mNOT\u001b[0m \u001b[0mNULL\u001b[0m\u001b[1;33m,\u001b[0m\u001b[1;33m\u001b[0m\u001b[1;33m\u001b[0m\u001b[0m\n",
      "\u001b[1;31mOperationalError\u001b[0m: table product already exists"
     ]
    }
   ],
   "source": [
    "# 테이블을 삭제하는 구문\n",
    "# conn.execute('drop table product')\n",
    "\n",
    "# 테이블 생성\n",
    "conn.execute(\"\"\"create table product(\n",
    "    pid INTEGER PRIMARY KEY AUTOINCREMENT,\n",
    "    name TEXT NOT NULL,\n",
    "    price INTEGER)\"\"\")\n",
    "    \n",
    "# >>> OperationalError: table product already exists"
   ]
  },
  {
   "cell_type": "markdown",
   "metadata": {},
   "source": [
    "### INSERT"
   ]
  },
  {
   "cell_type": "code",
   "execution_count": 7,
   "metadata": {},
   "outputs": [
    {
     "data": {
      "text/plain": [
       "<sqlite3.Cursor at 0x1486457bb90>"
      ]
     },
     "execution_count": 7,
     "metadata": {},
     "output_type": "execute_result"
    }
   ],
   "source": [
    "# 단일 쿼리 실행\n",
    "# 변수가 들어갈 자리를 ?로 처리해놓은 후, cursor를 통해 뒤의 값으로 그 ? 자리를 대체하도록 함.\n",
    "sql = 'INSERT INTO product(name, price) VALUES (?, ?)'\n",
    "cur.execute(sql, ('애플 아이폰 13 프로',1300000))"
   ]
  },
  {
   "cell_type": "code",
   "execution_count": 8,
   "metadata": {},
   "outputs": [
    {
     "data": {
      "text/plain": [
       "<sqlite3.Cursor at 0x1486457bb90>"
      ]
     },
     "execution_count": 8,
     "metadata": {},
     "output_type": "execute_result"
    }
   ],
   "source": [
    "# 동일 쿼리에 여러 데이터를 동시에 입력\n",
    "cur.executemany( sql, \n",
    "    [ ('삼성 갤럭시 s21', 1200000), \n",
    "      ('삼성 갤럭시 폴드3', 2000000), \n",
    "    ]\n",
    ")"
   ]
  },
  {
   "cell_type": "code",
   "execution_count": 11,
   "metadata": {},
   "outputs": [
    {
     "data": {
      "text/plain": [
       "<sqlite3.Cursor at 0x10cb74110>"
      ]
     },
     "execution_count": 11,
     "metadata": {},
     "output_type": "execute_result"
    }
   ],
   "source": [
    "# 여러 데이터를 동시에 입력할 때 별도로 튜플을 만들어 사용할 수도 있음.\n",
    "data = (\n",
    "    ('삼성 갤럭시 s21', 1200000), \n",
    "    ('삼성 갤럭시 폴드3', 2000000)\n",
    ")\n",
    "cur.executemany(sql,data)"
   ]
  },
  {
   "cell_type": "markdown",
   "metadata": {},
   "source": [
    "### SELECT"
   ]
  },
  {
   "cell_type": "code",
   "execution_count": 3,
   "metadata": {},
   "outputs": [
    {
     "name": "stdout",
     "output_type": "stream",
     "text": [
      "(7, 'Iphone 13 pro', 1300000)\n",
      "(8, 'Galaxy S22', 1100000)\n",
      "(9, 'LG V50', 950000)\n",
      "(11, '애플 아이폰 13 프로', 1300000)\n",
      "(12, '삼성 갤럭시 s21', 1200000)\n",
      "(13, '삼성 갤럭시 폴드3', 2000000)\n"
     ]
    }
   ],
   "source": [
    "# 조회\n",
    "cur.execute('select * from product')\n",
    "\n",
    "# rows : 가지고 온 데이터들이 list 형태로 반환됨.\n",
    "rows = cur.fetchall()\n",
    "\n",
    "for row in rows: \n",
    "    print(row)"
   ]
  },
  {
   "cell_type": "code",
   "execution_count": 4,
   "metadata": {},
   "outputs": [
    {
     "name": "stdout",
     "output_type": "stream",
     "text": [
      "{'pid': 1, 'name': '애플 아이폰 13 프로 맥스', 'price': 1900000}\n",
      "{'pid': 2, 'name': '삼성 갤럭시 s21', 'price': 1200000}\n",
      "{'pid': 3, 'name': '삼성 갤럭시 폴드3', 'price': 2000000}\n"
     ]
    }
   ],
   "source": [
    "# 조회 결과를 리스트가 아닌 테이블 컬럼의 dict 형태로 처리\n",
    "# web 에서 view 리턴시는 rows를 그냥 리턴하면 됨\n",
    "conn.row_factory = sql.Row\n",
    "cur = conn.cursor()\n",
    "cur.execute('select * from product')\n",
    "rows = cur.fetchall()\n",
    "\n",
    "for row in rows: \n",
    "    print(dict(row))"
   ]
  },
  {
   "cell_type": "markdown",
   "metadata": {},
   "source": [
    "### DB연결 종료"
   ]
  },
  {
   "cell_type": "markdown",
   "metadata": {},
   "source": [
    "파일을 저장할 때도, 저장하는 `save`나 `write` method가 없었기 때문에 `close` method가 사용됨."
   ]
  },
  {
   "cell_type": "code",
   "execution_count": 4,
   "metadata": {},
   "outputs": [],
   "source": [
    "# commit, rollback\n",
    "# autocommit이 꺼져 있을 경우 commit을 명시해줘야 함.\n",
    "\n",
    "conn.commit()\n",
    "conn.close()"
   ]
  },
  {
   "cell_type": "markdown",
   "metadata": {},
   "source": [
    "### with 구문 사용으로 auto close 구현\n",
    "- 사용후 resource close 를 하지 않아도 되는 장점\n",
    "- 해당 리소스를 사용하는 블럭이 길어지는 경우 코드 가독성에 문제가 있을 수 있음"
   ]
  },
  {
   "cell_type": "code",
   "execution_count": 10,
   "metadata": {},
   "outputs": [],
   "source": [
    "conn = sql.connect(\"test.db\")\n",
    "with conn:\n",
    "    cur = conn.cursor()\n",
    "    sql = 'INSERT INTO product(name, price) VALUES (?, ?)'\n",
    "    cur.execute(sql, ('애플 아이폰 13 프로 맥스',1900000))"
   ]
  }
 ],
 "metadata": {
  "interpreter": {
   "hash": "fc03d4b7d6372b7f3e214da49a4ccc5afc5ea1b8780e861c9c431c7ac739479f"
  },
  "kernelspec": {
   "display_name": "Python 3.8.5 ('base')",
   "language": "python",
   "name": "python3"
  },
  "language_info": {
   "codemirror_mode": {
    "name": "ipython",
    "version": 3
   },
   "file_extension": ".py",
   "mimetype": "text/x-python",
   "name": "python",
   "nbconvert_exporter": "python",
   "pygments_lexer": "ipython3",
   "version": "3.8.5"
  },
  "orig_nbformat": 4
 },
 "nbformat": 4,
 "nbformat_minor": 2
}
