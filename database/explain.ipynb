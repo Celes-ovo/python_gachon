{
 "cells": [
  {
   "cell_type": "markdown",
   "metadata": {},
   "source": [
    "모든 상품들을 구분해줄 수 있는 값 : Primary key   \n",
    "Primary key는 쉽게 노출될 수 있음. (url의 뒤 부분 숫자 등.)   \n",
    "\n",
    "즉 주민등록번호 등의 예민한 정보를 Primary key로 하면 안 된다는 거임...   \n",
    "Primary key는 의미없이 증가하는 단순한 숫자 값 등을 쓰면 좋다."
   ]
  },
  {
   "cell_type": "markdown",
   "metadata": {},
   "source": [
    "`pid INTERGER PRIMARY KEY AUTOINCREMENT`"
   ]
  },
  {
   "cell_type": "code",
   "execution_count": null,
   "metadata": {
    "vscode": {
     "languageId": "plaintext"
    }
   },
   "outputs": [],
   "source": []
  }
 ],
 "metadata": {
  "language_info": {
   "name": "python"
  },
  "orig_nbformat": 4
 },
 "nbformat": 4,
 "nbformat_minor": 2
}
