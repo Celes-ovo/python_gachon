{
  "nbformat": 4,
  "nbformat_minor": 0,
  "metadata": {
    "colab": {
      "name": "Midterm_0428.ipynb",
      "provenance": [],
      "collapsed_sections": []
    },
    "kernelspec": {
      "name": "python3",
      "display_name": "Python 3"
    },
    "language_info": {
      "name": "python"
    }
  },
  "cells": [
    {
      "cell_type": "markdown",
      "source": [
        "## 6번"
      ],
      "metadata": {
        "id": "GwQRJVDq8p7t"
      }
    },
    {
      "cell_type": "code",
      "execution_count": null,
      "metadata": {
        "colab": {
          "base_uri": "https://localhost:8080/"
        },
        "id": "pU_-GrPg73CT",
        "outputId": "e554640a-84bc-430d-c23f-704ac1f4f688"
      },
      "outputs": [
        {
          "output_type": "stream",
          "name": "stdout",
          "text": [
            "[10, 2, 2, 2, 0, 0, 0]\n"
          ]
        }
      ],
      "source": [
        "list1 = [10, 0, 0, 0, 10, 0, 0, 0]\n",
        "list1[1:5] = [2, 2, 2]\n",
        "\n",
        "print(list1)"
      ]
    },
    {
      "cell_type": "markdown",
      "source": [
        "## 7번"
      ],
      "metadata": {
        "id": "D14NB8yl8tQ3"
      }
    },
    {
      "cell_type": "code",
      "source": [
        "students = ['Ryan', 'Hansu', 'Jun']\n",
        "scores = [[90, 85, 91], [92, 95, 88], [87, 94, 96]]\n",
        "\n",
        "for i in range(0, len(scores)):\n",
        "  print(students[i], end='\\t')\n",
        "\n",
        "  for j in range(0, 3):\n",
        "    print(scores[i][j], end='\\t')\n",
        "\n",
        "  total = sum(scores[i])\n",
        "  print('%d\\t%d', %(total, total/3))"
      ],
      "metadata": {
        "id": "yg18xzKvDNsb"
      },
      "execution_count": null,
      "outputs": []
    },
    {
      "cell_type": "markdown",
      "source": [
        "---\n",
        "# 심화"
      ],
      "metadata": {
        "id": "BRbPld7p8tNd"
      }
    },
    {
      "cell_type": "code",
      "source": [
        "# 학생별 수강 과목들이 서로 다른 경우?\n",
        "\n",
        "students = ['Ryan', 'Hansu', 'Jun']\n",
        "scores = [[90, 85, 91, 100], [92, 95, 88], [87, 94, 96, 83, 91]]\n",
        "\n",
        "for i in range(len(students)):\n",
        "  print(students[i], end='\\t')\n",
        "\n",
        "  for j in range(len(scores[i])):\n",
        "    print(scores[i][j], end='\\t')\n",
        "\n",
        "  total = sum(scores[i])\n",
        "  print('%d\\t%d' %(total, total/len(scores[i])))"
      ],
      "metadata": {
        "colab": {
          "base_uri": "https://localhost:8080/"
        },
        "id": "ZuEAQJM1NUdu",
        "outputId": "a7df5232-67eb-4296-f2c6-6983070b0a5c"
      },
      "execution_count": null,
      "outputs": [
        {
          "output_type": "stream",
          "name": "stdout",
          "text": [
            "Ryan\t90\t85\t91\t100\t366\t91\n",
            "Hansu\t92\t95\t88\t275\t91\n",
            "Jun\t87\t94\t96\t83\t91\t451\t90\n"
          ]
        }
      ]
    },
    {
      "cell_type": "code",
      "source": [
        "\"\"\"\n",
        "students = ['Ryan', 'Hansu', 'Jun']\n",
        "scores = [[90, 85, 91], [92, 95, 88], [87, 94, 96]]\n",
        "\n",
        "for i in range(0, len(scores)):\n",
        "  print(students[i], end='\\t')\n",
        "\n",
        "  for j in range(0, 3):\n",
        "    print(scores[i][j], end='\\t')\n",
        "\n",
        "  total = sum(scores[i])\n",
        "  print('%d\\t%d' %(total, total/3))\n",
        "\"\"\"\n",
        "\n",
        "# 위 코드를 최대한 짧게?\n",
        "\n",
        "students = ['Ryan', 'Hansu', 'Jun']\n",
        "scores = [[90, 85, 91], [92, 95, 88], [87, 94, 96]]\n",
        "\n",
        "for i in range(len(students)):\n",
        "  total = sum(scores[i])\n",
        "  print(students[i], scores[i][0], scores[i][1], scores[i][2], total, int(total/3), sep='\\t')"
      ],
      "metadata": {
        "colab": {
          "base_uri": "https://localhost:8080/"
        },
        "id": "X-RetEgcO2LW",
        "outputId": "7c30dd7c-7758-48bf-d4db-90916fb2c86c"
      },
      "execution_count": null,
      "outputs": [
        {
          "output_type": "stream",
          "name": "stdout",
          "text": [
            "Ryan\t90\t85\t91\t266\t88\n",
            "Hansu\t92\t95\t88\t275\t91\n",
            "Jun\t87\t94\t96\t277\t92\n"
          ]
        }
      ]
    },
    {
      "cell_type": "markdown",
      "source": [
        "길이는 짧지만, 그렇게 썩 좋은 방법은 아니더라..."
      ],
      "metadata": {
        "id": "eomIZoDZQ29J"
      }
    },
    {
      "cell_type": "code",
      "source": [
        "# enumerate 사용\n",
        "\n",
        "for i, sc in enumerate(scores):\n",
        "  print(i, sc)\n",
        "  total = sum(sc)\n",
        "  print(students[i], sc[0], sc[1], sc[2], total, int(total/3), '\\n', sep='\\t')"
      ],
      "metadata": {
        "colab": {
          "base_uri": "https://localhost:8080/"
        },
        "id": "3A6pmlakQ83w",
        "outputId": "ecdb4b96-751c-420e-923c-62ac25eea345"
      },
      "execution_count": null,
      "outputs": [
        {
          "output_type": "stream",
          "name": "stdout",
          "text": [
            "0 [90, 85, 91]\n",
            "Ryan\t90\t85\t91\t266\t88\t\n",
            "\n",
            "1 [92, 95, 88]\n",
            "Hansu\t92\t95\t88\t275\t91\t\n",
            "\n",
            "2 [87, 94, 96]\n",
            "Jun\t87\t94\t96\t277\t92\t\n",
            "\n"
          ]
        }
      ]
    },
    {
      "cell_type": "code",
      "source": [
        "# zip과 unpacking\n",
        "\n",
        "for st, sc in zip(students, scores):\n",
        "  total=sum(sc)\n",
        "  print(st, sc[0], sc[1], sc[2], total, int(total/3), sep='\\t')\n",
        "\n",
        "print('=============================================')\n",
        "\n",
        "#unpacking\n",
        "for st, sc in zip(students, scores):\n",
        "  total=sum(sc)\n",
        "  print(st, *sc, total, int(total/3), sep='\\t')"
      ],
      "metadata": {
        "colab": {
          "base_uri": "https://localhost:8080/"
        },
        "id": "lXDXdvZESJTL",
        "outputId": "c326c3dc-dc63-4c9b-9e0e-44d62c9f927f"
      },
      "execution_count": null,
      "outputs": [
        {
          "output_type": "stream",
          "name": "stdout",
          "text": [
            "Ryan\t90\t85\t91\t266\t88\n",
            "Hansu\t92\t95\t88\t275\t91\n",
            "Jun\t87\t94\t96\t277\t92\n",
            "=============================================\n",
            "Ryan\t90\t85\t91\t266\t88\n",
            "Hansu\t92\t95\t88\t275\t91\n",
            "Jun\t87\t94\t96\t277\t92\n"
          ]
        }
      ]
    },
    {
      "cell_type": "markdown",
      "source": [
        "---\n",
        "# Quiz   \n",
        "### 다음 요구사항을 만족하는 프로그램을 작성하시오.\n",
        "\n",
        "- 기본 데이터 내용은 학생 성적 정보 데이터 활용 하되 Dictionary 구조로 변경.\n",
        "\n",
        "- 프로그램을 실행하면 1: 검색, 2 : 전체 조회 메뉴 출력\n",
        "\n",
        "- 1을 선택하면 이름을 입력받아 해당 학생 성적만 출력\n",
        "\n",
        "- 2를 선택하면 전체 학생 정보 출력"
      ],
      "metadata": {
        "id": "EgVI7UoM8tIK"
      }
    },
    {
      "cell_type": "code",
      "source": [
        "students = {'Ryan':[90, 85, 91], 'Hansu':[92, 95, 88], 'Jun':[87, 94, 96]}\n",
        "\n",
        "num = input(\"Type your num(1 : Search mode, 2 : PrintAll) : \")\n",
        "\n",
        "if num=='1':\n",
        "  name = input('Type your name : ')\n",
        "  print(students[name])\n",
        "\n",
        "elif num=='2':\n",
        "  print(students)"
      ],
      "metadata": {
        "id": "9TfLHmLCTwG5",
        "colab": {
          "base_uri": "https://localhost:8080/"
        },
        "outputId": "e661200b-14be-4378-cf9b-fb822f7274f1"
      },
      "execution_count": 11,
      "outputs": [
        {
          "output_type": "stream",
          "name": "stdout",
          "text": [
            "Type your num(1 : Search mode, 2 : PrintAll) : 1\n",
            "Type your name : Hansu\n",
            "[92, 95, 88]\n"
          ]
        }
      ]
    },
    {
      "cell_type": "code",
      "source": [
        "print(students['Ryan'])"
      ],
      "metadata": {
        "colab": {
          "base_uri": "https://localhost:8080/"
        },
        "id": "jtTcWLxEYuZ9",
        "outputId": "cb8bec24-a5a3-4788-84ed-f0563d3866ed"
      },
      "execution_count": 10,
      "outputs": [
        {
          "output_type": "stream",
          "name": "stdout",
          "text": [
            "[90, 85, 91]\n"
          ]
        }
      ]
    },
    {
      "cell_type": "markdown",
      "source": [
        ""
      ],
      "metadata": {
        "id": "zhQ66G2s8tE4"
      }
    },
    {
      "cell_type": "markdown",
      "source": [
        ""
      ],
      "metadata": {
        "id": "h-OMfLyH8tCm"
      }
    }
  ]
}