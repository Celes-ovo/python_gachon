{
 "cells": [
  {
   "cell_type": "markdown",
   "metadata": {},
   "source": [
    "### 1. __init__"
   ]
  },
  {
   "cell_type": "code",
   "execution_count": null,
   "metadata": {},
   "outputs": [],
   "source": [
    "# 오버라이딩 : 부모 클래스에서 받은 정보를 재정의하고 싶을 때 사용.\n",
    "\n",
    "def __init__(self):\n",
    "    pass"
   ]
  },
  {
   "cell_type": "markdown",
   "metadata": {},
   "source": [
    "### 2. 클래스와 서브 클래스, 슈퍼 클래스"
   ]
  },
  {
   "cell_type": "code",
   "execution_count": null,
   "metadata": {},
   "outputs": [],
   "source": [
    "class Rabbit():\n",
    "    pass\n",
    "\n",
    "# 위의 부모 클래스로부터 정보를 상속받는 서브 클래스\n",
    "class Houserabbit(Rabbit):\n",
    "    pass"
   ]
  },
  {
   "cell_type": "markdown",
   "metadata": {},
   "source": [
    "###  순서도\n",
    "1. class를 정의하고\n",
    "2. __ init __ method를 사용해 class 객체가 생성될 때마다 초기화도 가능하고\n",
    "3. 서브 클래스를 통해 부모 클래스로부터 정보를 받아올 수도 있음. "
   ]
  },
  {
   "cell_type": "code",
   "execution_count": null,
   "metadata": {},
   "outputs": [],
   "source": []
  }
 ],
 "metadata": {
  "interpreter": {
   "hash": "b74afdfae4ca81d6349a8feb2755a7be80f09d0c18dc8a5b53f75233659617cb"
  },
  "kernelspec": {
   "display_name": "Python 3.8.5 ('keras')",
   "language": "python",
   "name": "python3"
  },
  "language_info": {
   "name": "python",
   "version": "3.8.5"
  },
  "orig_nbformat": 4
 },
 "nbformat": 4,
 "nbformat_minor": 2
}
